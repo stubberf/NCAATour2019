{
 "cells": [
  {
   "cell_type": "code",
   "execution_count": 1,
   "metadata": {
    "collapsed": true
   },
   "outputs": [],
   "source": [
    "#load need libraries\n",
    "import pandas as pd\n",
    "import numpy as np"
   ]
  },
  {
   "cell_type": "code",
   "execution_count": 4,
   "metadata": {
    "collapsed": true
   },
   "outputs": [],
   "source": [
    "A = [0, 1/3, 1/3, 1/3]\n",
    "B = [1/2, 0, 0, 1/2]\n",
    "C = [0, 0, 0, 1]\n",
    "D = [0, 1/2, 1/2, 0]"
   ]
  },
  {
   "cell_type": "code",
   "execution_count": 5,
   "metadata": {},
   "outputs": [
    {
     "data": {
      "text/plain": [
       "array([[ 0.        ,  0.5       ,  0.        ,  0.        ],\n",
       "       [ 0.33333333,  0.        ,  0.        ,  0.5       ],\n",
       "       [ 0.33333333,  0.        ,  0.        ,  0.5       ],\n",
       "       [ 0.33333333,  0.5       ,  1.        ,  0.        ]])"
      ]
     },
     "execution_count": 5,
     "metadata": {},
     "output_type": "execute_result"
    }
   ],
   "source": [
    "m = np.array([A, B, C, D])\n",
    "m = m.T\n",
    "m"
   ]
  },
  {
   "cell_type": "code",
   "execution_count": 56,
   "metadata": {},
   "outputs": [
    {
     "name": "stdout",
     "output_type": "stream",
     "text": [
      "[ 0.1375  0.2125  0.2125  0.4375]\n",
      "0.050625\n",
      "[ 0.1206  0.2631  0.2631  0.3531]\n",
      "0.0125296875\n",
      "[ 0.1434  0.2201  0.2201  0.4164]\n",
      "0.00822687890625\n",
      "[ 0.124   0.2554  0.2554  0.3651]\n",
      "0.00549605487305\n",
      "[ 0.1399  0.2265  0.2265  0.407 ]\n",
      "0.00367235332229\n",
      "[ 0.1269  0.2501  0.2501  0.3728]\n",
      "0.00245379709253\n",
      "[ 0.1376  0.2308  0.2308  0.4008]\n",
      "0.00163958087763\n",
      "[ 0.1289  0.2466  0.2466  0.3779]\n",
      "0.0010955369794\n",
      "[ 0.136   0.2337  0.2337  0.3966]\n",
      "0.000732017120721\n",
      "[ 0.1302  0.2443  0.2443  0.3813]\n",
      "0.000489120016124\n",
      "[ 0.1349  0.2356  0.2356  0.3938]\n",
      "0.000326820757878\n",
      "[ 0.131   0.2427  0.2427  0.3836]\n",
      "0.000218375458494\n",
      "[ 0.1342  0.2369  0.2369  0.3919]\n",
      "0.000145914357405\n",
      "[ 0.1316  0.2416  0.2416  0.3851]\n",
      "9.74972180658e-05\n",
      "[ 0.1337  0.2378  0.2378  0.3907]\n",
      "6.51457999035e-05\n",
      "[ 0.132   0.2409  0.2409  0.3861]\n",
      "4.35291932351e-05\n",
      "[ 0.1334  0.2384  0.2384  0.3899]\n",
      "2.90853848829e-05\n",
      "[ 0.1323  0.2405  0.2405  0.3868]\n",
      "1.94343049092e-05\n",
      "[ 0.1332  0.2387  0.2387  0.3893]\n",
      "1.29856355289e-05\n",
      "[ 0.1324  0.2401  0.2401  0.3873]\n",
      "8.67675643024e-06\n"
     ]
    }
   ],
   "source": [
    "l = len(m)\n",
    "r = np.ones((l, 1)) * 1/l\n",
    "d = .9\n",
    "\n",
    "for i in range(40):\n",
    "    r_init = r\n",
    "    r = (1 - d)/l + d*(np.dot(m, r))\n",
    "    ssd = np.square(r_init - r).sum()\n",
    "    print(np.around(r, decimals=4).ravel())\n",
    "    print(ssd)\n",
    "    if ssd <= 1e-05:\n",
    "        break"
   ]
  },
  {
   "cell_type": "code",
   "execution_count": 28,
   "metadata": {},
   "outputs": [
    {
     "data": {
      "text/plain": [
       "1.0"
      ]
     },
     "execution_count": 28,
     "metadata": {},
     "output_type": "execute_result"
    }
   ],
   "source": []
  },
  {
   "cell_type": "code",
   "execution_count": 16,
   "metadata": {
    "scrolled": true
   },
   "outputs": [
    {
     "name": "stdout",
     "output_type": "stream",
     "text": [
      "[ 0.125       0.20833333  0.20833333  0.45833333]\n",
      "[[ 0.          0.5         0.          0.        ]\n",
      " [ 0.33333333  0.          0.          0.5       ]\n",
      " [ 0.33333333  0.          0.          0.5       ]\n",
      " [ 0.33333333  0.5         1.          0.        ]]\n",
      "[ 0.10416667  0.27083333  0.27083333  0.35416667]\n"
     ]
    }
   ],
   "source": [
    "l = len(m)\n",
    "r = np.ones((l, 1)) * 1/l\n",
    "\n",
    "#for i in range(20):\n",
    "#    r = np.dot(m, r)\n",
    "#    print(r.ravel())\n",
    "\n",
    "r = np.dot(m, r)\n",
    "\n",
    "print(r.ravel())\n",
    "print(m)\n",
    "r = np.dot(m, r)\n",
    "print(r.ravel())"
   ]
  },
  {
   "cell_type": "code",
   "execution_count": 13,
   "metadata": {},
   "outputs": [
    {
     "data": {
      "text/plain": [
       "array([[ 0.13541667],\n",
       "       [ 0.21180556],\n",
       "       [ 0.21180556],\n",
       "       [ 0.44097222]])"
      ]
     },
     "execution_count": 13,
     "metadata": {},
     "output_type": "execute_result"
    }
   ],
   "source": [
    "np.dot(m, r)"
   ]
  },
  {
   "cell_type": "code",
   "execution_count": 20,
   "metadata": {},
   "outputs": [
    {
     "data": {
      "text/plain": [
       "array([[11],\n",
       "       [17]])"
      ]
     },
     "execution_count": 20,
     "metadata": {},
     "output_type": "execute_result"
    }
   ],
   "source": [
    "a = np.array([\n",
    " [1, 2]\n",
    " ])\n",
    "a.shape == (1,2)\n",
    "a = a.T\n",
    "b = np.array([\n",
    " [3, 4],\n",
    " [5, 6]\n",
    " ])\n",
    "b.shape == (2,2)\n",
    "\n",
    "# Multiply\n",
    "mm = np.dot(b,a)\n",
    "#mm == [13, 16]\n",
    "#mm.shape == (1,2)\n",
    "mm"
   ]
  },
  {
   "cell_type": "code",
   "execution_count": null,
   "metadata": {
    "collapsed": true
   },
   "outputs": [],
   "source": []
  }
 ],
 "metadata": {
  "kernelspec": {
   "display_name": "Python 3",
   "language": "python",
   "name": "python3"
  },
  "language_info": {
   "codemirror_mode": {
    "name": "ipython",
    "version": 3
   },
   "file_extension": ".py",
   "mimetype": "text/x-python",
   "name": "python",
   "nbconvert_exporter": "python",
   "pygments_lexer": "ipython3",
   "version": "3.6.2"
  }
 },
 "nbformat": 4,
 "nbformat_minor": 2
}
