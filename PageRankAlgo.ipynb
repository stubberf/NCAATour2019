{
 "cells": [
  {
   "cell_type": "markdown",
   "metadata": {},
   "source": [
    "# Summary\n",
    "2019-03-29\n",
    "\n",
    "The analysis will attempt to choose the winner of the 2019 NCAA Men's Basketball tournament by ranking teams using the [PageRank](https://en.wikipedia.org/wiki/PageRank) algorithm based on their records before the tournament started.\n",
    "\n",
    "Many thanks go out to:\n",
    "- https://www.youtube.com/watch?v=F5fcEtqysGs&list=WL&index=50&t=0s for PageRank Tutorial\n",
    "- https://www.printyourbrackets.com/fillable-ncaa-tournament-bracket.html for customizable bracket\n",
    "- https://www.sports-reference.com/cbb/ for team season records"
   ]
  },
  {
   "cell_type": "code",
   "execution_count": 1,
   "metadata": {
    "collapsed": true
   },
   "outputs": [],
   "source": [
    "#load need libraries\n",
    "import pandas as pd\n",
    "import numpy as np"
   ]
  },
  {
   "cell_type": "markdown",
   "metadata": {},
   "source": [
    "### Load Data"
   ]
  },
  {
   "cell_type": "code",
   "execution_count": 2,
   "metadata": {},
   "outputs": [
    {
     "data": {
      "text/html": [
       "<div>\n",
       "<style>\n",
       "    .dataframe thead tr:only-child th {\n",
       "        text-align: right;\n",
       "    }\n",
       "\n",
       "    .dataframe thead th {\n",
       "        text-align: left;\n",
       "    }\n",
       "\n",
       "    .dataframe tbody tr th {\n",
       "        vertical-align: top;\n",
       "    }\n",
       "</style>\n",
       "<table border=\"1\" class=\"dataframe\">\n",
       "  <thead>\n",
       "    <tr style=\"text-align: right;\">\n",
       "      <th></th>\n",
       "      <th>tm1</th>\n",
       "      <th>tm2</th>\n",
       "      <th>gm_type</th>\n",
       "      <th>s1</th>\n",
       "      <th>s2</th>\n",
       "      <th>w1</th>\n",
       "      <th>w2</th>\n",
       "    </tr>\n",
       "  </thead>\n",
       "  <tbody>\n",
       "    <tr>\n",
       "      <th>0</th>\n",
       "      <td>abilene-christian</td>\n",
       "      <td>arlington-baptist</td>\n",
       "      <td>REG</td>\n",
       "      <td>107</td>\n",
       "      <td>54</td>\n",
       "      <td>1</td>\n",
       "      <td>0</td>\n",
       "    </tr>\n",
       "    <tr>\n",
       "      <th>1</th>\n",
       "      <td>abilene-christian</td>\n",
       "      <td>arkansas-state</td>\n",
       "      <td>REG</td>\n",
       "      <td>94</td>\n",
       "      <td>73</td>\n",
       "      <td>1</td>\n",
       "      <td>0</td>\n",
       "    </tr>\n",
       "    <tr>\n",
       "      <th>2</th>\n",
       "      <td>abilene-christian</td>\n",
       "      <td>denver</td>\n",
       "      <td>REG</td>\n",
       "      <td>67</td>\n",
       "      <td>61</td>\n",
       "      <td>1</td>\n",
       "      <td>0</td>\n",
       "    </tr>\n",
       "    <tr>\n",
       "      <th>3</th>\n",
       "      <td>abilene-christian</td>\n",
       "      <td>elon</td>\n",
       "      <td>REG</td>\n",
       "      <td>72</td>\n",
       "      <td>56</td>\n",
       "      <td>1</td>\n",
       "      <td>0</td>\n",
       "    </tr>\n",
       "    <tr>\n",
       "      <th>4</th>\n",
       "      <td>abilene-christian</td>\n",
       "      <td>pacific</td>\n",
       "      <td>REG</td>\n",
       "      <td>73</td>\n",
       "      <td>71</td>\n",
       "      <td>1</td>\n",
       "      <td>0</td>\n",
       "    </tr>\n",
       "  </tbody>\n",
       "</table>\n",
       "</div>"
      ],
      "text/plain": [
       "                 tm1                tm2 gm_type   s1  s2  w1  w2\n",
       "0  abilene-christian  arlington-baptist     REG  107  54   1   0\n",
       "1  abilene-christian     arkansas-state     REG   94  73   1   0\n",
       "2  abilene-christian             denver     REG   67  61   1   0\n",
       "3  abilene-christian               elon     REG   72  56   1   0\n",
       "4  abilene-christian            pacific     REG   73  71   1   0"
      ]
     },
     "execution_count": 2,
     "metadata": {},
     "output_type": "execute_result"
    }
   ],
   "source": [
    "data = pd.read_csv('NCAA_dataset.csv', header=0)\n",
    "data.head()"
   ]
  },
  {
   "cell_type": "code",
   "execution_count": 3,
   "metadata": {},
   "outputs": [
    {
     "data": {
      "text/plain": [
       "391"
      ]
     },
     "execution_count": 3,
     "metadata": {},
     "output_type": "execute_result"
    }
   ],
   "source": [
    "#get a complete list of unique teams in dataset\n",
    "all_teams = set(data['tm1'].unique()) | set(data['tm2'].unique())\n",
    "all_teams = list(all_teams)\n",
    "len(all_teams)"
   ]
  },
  {
   "cell_type": "markdown",
   "metadata": {},
   "source": [
    "### Start Analysis\n",
    "\n",
    "Outline Steps:\n",
    "1. Create a numpy matrix of 391 X 391 because there are 391 teams.\n",
    "2. We will count every loss as an outgoing link for that team. We will ignore wins to avoid double counting. However, because our dataset does not contain all D1 basketball teams, but just those that made it to the NCAA tournament, this approach means we will not have a full record of the teams not in the tournament. The columns of the matrix will represent the loses (or outgoing links) a team had, and the rows will represent the wins a team. \n",
    "3. The columns will be normalized by the total sum of those columns. \n",
    "4. Using the matrix compute the rank using the Pagerank algorithm with dampening. Use an iterative approach to compute the PageRank stopping when the values become stable and only changing slightly between iterations. "
   ]
  },
  {
   "cell_type": "markdown",
   "metadata": {},
   "source": [
    "##### Create Matrix"
   ]
  },
  {
   "cell_type": "code",
   "execution_count": 4,
   "metadata": {
    "collapsed": true
   },
   "outputs": [],
   "source": [
    "l = len(all_teams)\n",
    "m = np.zeros((l, l))\n",
    "key = dict(zip(all_teams, range(l)))\n",
    "\n",
    "for i in range(len(data)):\n",
    "    if data['w2'][i] == 1:\n",
    "        m[ key[data['tm2'][i]], key[data['tm1'][i]] ] += 1\n",
    "#normalize the matrix\n",
    "t = m.sum(axis=0)\n",
    "for i in range(len(t)):\n",
    "    if t[i] == 0:\n",
    "        continue\n",
    "    else:\n",
    "        m[:, i] = m[:, i] / t[i]"
   ]
  },
  {
   "cell_type": "markdown",
   "metadata": {},
   "source": [
    "Our dataset contains the records for only those teams who are in the tournement. To avoid double counting we can track either the total number of wins or total number of losses for those teams. This is being done to avoid creating some sort of hashing function that will recongize that a particular game is the same, regardless if it shows up twice in the dataset for each of the different teams. By tracking only losses, for some teams the total number of wins is not correct."
   ]
  },
  {
   "cell_type": "markdown",
   "metadata": {},
   "source": [
    "##### Apply PageRank Algo."
   ]
  },
  {
   "cell_type": "code",
   "execution_count": 5,
   "metadata": {},
   "outputs": [
    {
     "name": "stdout",
     "output_type": "stream",
     "text": [
      "0.00158332945869\n",
      "3.08594808598e-05\n",
      "5.70494925626e-06\n",
      "2.208947065e-06\n",
      "9.4994807279e-07\n",
      "4.50326316718e-07\n",
      "2.17147139724e-07\n",
      "1.05316962055e-07\n",
      "5.17674182282e-08\n",
      "2.55042613318e-08\n",
      "1.25644375992e-08\n",
      "6.19727863408e-09\n",
      "3.05682699302e-09\n",
      "1.50730982062e-09\n",
      "7.43192275285e-10\n"
     ]
    }
   ],
   "source": [
    "#initialize rank vector\n",
    "r = np.ones((l, 1)) * 1/l\n",
    "d = .9\n",
    "#iterate adjust rank until stable\n",
    "for i in range(50):\n",
    "    r_init = r\n",
    "    r = (1 - d)/l + d*(np.dot(m, r))\n",
    "    ssd = np.square(r_init - r).sum() #squared sum diff. from prev.\n",
    "    z = zip(all_teams, r.ravel())\n",
    "    print(ssd)\n",
    "    if ssd <= 1e-09:\n",
    "        break   "
   ]
  },
  {
   "cell_type": "markdown",
   "metadata": {},
   "source": [
    "##### Put Sorted Results in DataFrame"
   ]
  },
  {
   "cell_type": "code",
   "execution_count": 6,
   "metadata": {},
   "outputs": [
    {
     "data": {
      "text/html": [
       "<div>\n",
       "<style>\n",
       "    .dataframe thead tr:only-child th {\n",
       "        text-align: right;\n",
       "    }\n",
       "\n",
       "    .dataframe thead th {\n",
       "        text-align: left;\n",
       "    }\n",
       "\n",
       "    .dataframe tbody tr th {\n",
       "        vertical-align: top;\n",
       "    }\n",
       "</style>\n",
       "<table border=\"1\" class=\"dataframe\">\n",
       "  <thead>\n",
       "    <tr style=\"text-align: right;\">\n",
       "      <th></th>\n",
       "      <th>team</th>\n",
       "      <th>pr</th>\n",
       "    </tr>\n",
       "  </thead>\n",
       "  <tbody>\n",
       "    <tr>\n",
       "      <th>315</th>\n",
       "      <td>duke</td>\n",
       "      <td>0.002235</td>\n",
       "    </tr>\n",
       "    <tr>\n",
       "      <th>59</th>\n",
       "      <td>north-carolina</td>\n",
       "      <td>0.001802</td>\n",
       "    </tr>\n",
       "    <tr>\n",
       "      <th>124</th>\n",
       "      <td>kansas</td>\n",
       "      <td>0.001357</td>\n",
       "    </tr>\n",
       "    <tr>\n",
       "      <th>361</th>\n",
       "      <td>kentucky</td>\n",
       "      <td>0.001356</td>\n",
       "    </tr>\n",
       "    <tr>\n",
       "      <th>278</th>\n",
       "      <td>virginia</td>\n",
       "      <td>0.001222</td>\n",
       "    </tr>\n",
       "    <tr>\n",
       "      <th>212</th>\n",
       "      <td>florida-state</td>\n",
       "      <td>0.001217</td>\n",
       "    </tr>\n",
       "    <tr>\n",
       "      <th>386</th>\n",
       "      <td>michigan-state</td>\n",
       "      <td>0.001212</td>\n",
       "    </tr>\n",
       "    <tr>\n",
       "      <th>149</th>\n",
       "      <td>tennessee</td>\n",
       "      <td>0.001196</td>\n",
       "    </tr>\n",
       "    <tr>\n",
       "      <th>3</th>\n",
       "      <td>michigan</td>\n",
       "      <td>0.001022</td>\n",
       "    </tr>\n",
       "    <tr>\n",
       "      <th>119</th>\n",
       "      <td>texas</td>\n",
       "      <td>0.000983</td>\n",
       "    </tr>\n",
       "    <tr>\n",
       "      <th>208</th>\n",
       "      <td>iowa-state</td>\n",
       "      <td>0.000974</td>\n",
       "    </tr>\n",
       "    <tr>\n",
       "      <th>273</th>\n",
       "      <td>louisiana-state</td>\n",
       "      <td>0.000949</td>\n",
       "    </tr>\n",
       "    <tr>\n",
       "      <th>265</th>\n",
       "      <td>auburn</td>\n",
       "      <td>0.000924</td>\n",
       "    </tr>\n",
       "    <tr>\n",
       "      <th>64</th>\n",
       "      <td>louisville</td>\n",
       "      <td>0.000909</td>\n",
       "    </tr>\n",
       "    <tr>\n",
       "      <th>382</th>\n",
       "      <td>houston</td>\n",
       "      <td>0.000895</td>\n",
       "    </tr>\n",
       "    <tr>\n",
       "      <th>191</th>\n",
       "      <td>virginia-tech</td>\n",
       "      <td>0.000868</td>\n",
       "    </tr>\n",
       "    <tr>\n",
       "      <th>383</th>\n",
       "      <td>indiana</td>\n",
       "      <td>0.000815</td>\n",
       "    </tr>\n",
       "    <tr>\n",
       "      <th>293</th>\n",
       "      <td>gonzaga</td>\n",
       "      <td>0.000800</td>\n",
       "    </tr>\n",
       "    <tr>\n",
       "      <th>132</th>\n",
       "      <td>syracuse</td>\n",
       "      <td>0.000799</td>\n",
       "    </tr>\n",
       "    <tr>\n",
       "      <th>50</th>\n",
       "      <td>seton-hall</td>\n",
       "      <td>0.000769</td>\n",
       "    </tr>\n",
       "    <tr>\n",
       "      <th>367</th>\n",
       "      <td>kansas-state</td>\n",
       "      <td>0.000760</td>\n",
       "    </tr>\n",
       "    <tr>\n",
       "      <th>102</th>\n",
       "      <td>cincinnati</td>\n",
       "      <td>0.000753</td>\n",
       "    </tr>\n",
       "    <tr>\n",
       "      <th>362</th>\n",
       "      <td>purdue</td>\n",
       "      <td>0.000749</td>\n",
       "    </tr>\n",
       "    <tr>\n",
       "      <th>36</th>\n",
       "      <td>central-florida</td>\n",
       "      <td>0.000728</td>\n",
       "    </tr>\n",
       "    <tr>\n",
       "      <th>22</th>\n",
       "      <td>marquette</td>\n",
       "      <td>0.000723</td>\n",
       "    </tr>\n",
       "    <tr>\n",
       "      <th>263</th>\n",
       "      <td>alabama</td>\n",
       "      <td>0.000717</td>\n",
       "    </tr>\n",
       "    <tr>\n",
       "      <th>380</th>\n",
       "      <td>texas-tech</td>\n",
       "      <td>0.000708</td>\n",
       "    </tr>\n",
       "    <tr>\n",
       "      <th>244</th>\n",
       "      <td>villanova</td>\n",
       "      <td>0.000696</td>\n",
       "    </tr>\n",
       "    <tr>\n",
       "      <th>281</th>\n",
       "      <td>wisconsin</td>\n",
       "      <td>0.000652</td>\n",
       "    </tr>\n",
       "    <tr>\n",
       "      <th>353</th>\n",
       "      <td>west-virginia</td>\n",
       "      <td>0.000645</td>\n",
       "    </tr>\n",
       "  </tbody>\n",
       "</table>\n",
       "</div>"
      ],
      "text/plain": [
       "                team        pr\n",
       "315             duke  0.002235\n",
       "59    north-carolina  0.001802\n",
       "124           kansas  0.001357\n",
       "361         kentucky  0.001356\n",
       "278         virginia  0.001222\n",
       "212    florida-state  0.001217\n",
       "386   michigan-state  0.001212\n",
       "149        tennessee  0.001196\n",
       "3           michigan  0.001022\n",
       "119            texas  0.000983\n",
       "208       iowa-state  0.000974\n",
       "273  louisiana-state  0.000949\n",
       "265           auburn  0.000924\n",
       "64        louisville  0.000909\n",
       "382          houston  0.000895\n",
       "191    virginia-tech  0.000868\n",
       "383          indiana  0.000815\n",
       "293          gonzaga  0.000800\n",
       "132         syracuse  0.000799\n",
       "50        seton-hall  0.000769\n",
       "367     kansas-state  0.000760\n",
       "102       cincinnati  0.000753\n",
       "362           purdue  0.000749\n",
       "36   central-florida  0.000728\n",
       "22         marquette  0.000723\n",
       "263          alabama  0.000717\n",
       "380       texas-tech  0.000708\n",
       "244        villanova  0.000696\n",
       "281        wisconsin  0.000652\n",
       "353    west-virginia  0.000645"
      ]
     },
     "execution_count": 6,
     "metadata": {},
     "output_type": "execute_result"
    }
   ],
   "source": [
    "z = zip(all_teams, r.ravel())\n",
    "df = pd.DataFrame(list(z), columns=['team', 'pr'])\n",
    "df.sort_values(by=['pr'], ascending=False).head(30)"
   ]
  },
  {
   "cell_type": "markdown",
   "metadata": {},
   "source": [
    "##### Run Tournament\n",
    "\n",
    "Based on ranking run tournament to see who wins! Highest rank moves to next round. "
   ]
  },
  {
   "cell_type": "code",
   "execution_count": 7,
   "metadata": {
    "collapsed": true
   },
   "outputs": [],
   "source": [
    "east = ['duke', 'north-dakota-state', 'virginia-commonwealth', 'central-florida', \n",
    "        'mississippi-state', 'liberty', 'virginia-tech', 'saint-louis', \n",
    "        'maryland', 'belmont', 'louisiana-state', 'yale', \n",
    "        'louisville', 'minnesota', 'michigan-state', 'bradley']\n",
    "west = ['gonzaga', 'fairleigh-dickinson', 'syracuse', 'baylor', \n",
    "        'marquette', 'murray-state', 'florida-state', 'vermont',\n",
    "        'buffalo', 'arizona-state', 'texas-tech', 'northern-kentucky',\n",
    "        'nevada', 'florida', 'michigan', 'montana']\n",
    "south = ['virginia', 'gardner-webb', 'mississippi', 'oklahoma', \n",
    "         'wisconsin', 'oregon', 'kansas-state', 'california-irvine',\n",
    "         'villanova', 'saint-marys-ca', 'purdue', 'old-dominion',\n",
    "         'cincinnati', 'iowa', 'tennessee', 'colgate']\n",
    "midwest = ['north-carolina', 'iona', 'utah-state', 'washington',\n",
    "          'auburn', 'new-mexico-state', 'kansas', 'northeastern', \n",
    "           'iowa-state', 'ohio-state', 'houston', 'georgia-state', \n",
    "           'wofford', 'seton-hall', 'kentucky', 'abilene-christian'\n",
    "          ]"
   ]
  },
  {
   "cell_type": "code",
   "execution_count": 8,
   "metadata": {
    "collapsed": true
   },
   "outputs": [],
   "source": [
    "def run_tournament_round(list_of_teams=[]):\n",
    "    next_round = []\n",
    "    for i in range(0, len(list_of_teams), 2):\n",
    "        r1 = float(df.loc[df.team == list_of_teams[i], 'pr'])\n",
    "        r2 = float(df.loc[df.team == list_of_teams[i+1], 'pr'])\n",
    "        if r1 > r2:\n",
    "            next_round.append(list_of_teams[i])\n",
    "        else:\n",
    "            next_round.append(list_of_teams[i+1])\n",
    "    return next_round\n",
    "\n",
    "def run_tournament(left_bracket, right_bracket):\n",
    "    r_l = [left_bracket]\n",
    "    r_r = [right_bracket]\n",
    "    for i in range(5):\n",
    "        r_l.append(run_tournament_round(r_l[i]))\n",
    "        r_r.append(run_tournament_round(r_r[i]))\n",
    "    return r_l, r_r, run_tournament_round(r_l[5] + r_r[5])"
   ]
  },
  {
   "cell_type": "markdown",
   "metadata": {},
   "source": [
    "The output of the tournament returns and obeject with 3 items. The first 2 are a list of lists which represent the predicted winners in each round on the left and right side of the tournament bracket. The final item is the name of the predicted overall winner."
   ]
  },
  {
   "cell_type": "code",
   "execution_count": 9,
   "metadata": {},
   "outputs": [
    {
     "data": {
      "text/plain": [
       "([['duke',\n",
       "   'virginia-tech',\n",
       "   'louisiana-state',\n",
       "   'michigan-state',\n",
       "   'gonzaga',\n",
       "   'florida-state',\n",
       "   'texas-tech',\n",
       "   'michigan'],\n",
       "  ['duke', 'michigan-state', 'florida-state', 'michigan'],\n",
       "  ['duke', 'florida-state'],\n",
       "  ['duke']],\n",
       " [['virginia',\n",
       "   'kansas-state',\n",
       "   'purdue',\n",
       "   'tennessee',\n",
       "   'north-carolina',\n",
       "   'kansas',\n",
       "   'iowa-state',\n",
       "   'kentucky'],\n",
       "  ['virginia', 'tennessee', 'north-carolina', 'kentucky'],\n",
       "  ['virginia', 'north-carolina'],\n",
       "  ['north-carolina']],\n",
       " ['duke'])"
      ]
     },
     "execution_count": 9,
     "metadata": {},
     "output_type": "execute_result"
    }
   ],
   "source": [
    "o = run_tournament(east + west, south + midwest)\n",
    "#Display predicted winners of the sweet 16, elite 8, final 4, and champion\n",
    "o[0][2:], o[1][2:], o[2]"
   ]
  },
  {
   "cell_type": "markdown",
   "metadata": {},
   "source": [
    "### Result\n",
    "\n",
    "The overall predicted result is Duke. This is no big surprise as they were the number 1 rated seed coming into the tournament. I started this analysis when the teams were playing to make it into the Elite 8 but finished just before the final 4 games start. Of the 60 games that have been completed so far this version of the algorithm predicted 37 correctly. (To see the full predicted bracket, [click here](https://github.com/stubberf/NCAATour2019/blob/master/fillable-march-madness-V1.pdf)!) Not perfect, but better than 50%. I consider that performance ok.\n",
    "\n",
    "Possible improvements:\n",
    " - Run the analysis again with the tournament games results through to the Final 4\n",
    " - Add simulation into analysis by taking standard deviation of the total number of points a team scores and randomly add and subtract that from the game score and add those games to the analysis. This is an attempt to determine if the same two teams played multiple times who is likely to win.\n",
    " "
   ]
  },
  {
   "cell_type": "code",
   "execution_count": null,
   "metadata": {
    "collapsed": true
   },
   "outputs": [],
   "source": []
  }
 ],
 "metadata": {
  "kernelspec": {
   "display_name": "Python 3",
   "language": "python",
   "name": "python3"
  },
  "language_info": {
   "codemirror_mode": {
    "name": "ipython",
    "version": 3
   },
   "file_extension": ".py",
   "mimetype": "text/x-python",
   "name": "python",
   "nbconvert_exporter": "python",
   "pygments_lexer": "ipython3",
   "version": "3.6.2"
  }
 },
 "nbformat": 4,
 "nbformat_minor": 2
}
